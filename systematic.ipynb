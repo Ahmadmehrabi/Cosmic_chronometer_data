{
 "cells": [
  {
   "cell_type": "code",
   "execution_count": 1,
   "metadata": {},
   "outputs": [],
   "source": [
    "import numpy as np\n",
    "from numpy.linalg import inv"
   ]
  },
  {
   "cell_type": "code",
   "execution_count": null,
   "metadata": {},
   "outputs": [],
   "source": [
    "os.chdir(dir_data)\n",
    "filename = 'HzTable_MM_BC03.dat'\n",
    "z, Hz, errHz = np.genfromtxt(filename, comments='#', usecols=(0,1,2), unpack=True, delimiter=',')\n",
    "ref = np.genfromtxt(filename, comments='#', usecols=(3), unpack=True, dtype=str, delimiter=',')\n",
    "\n",
    "filename = 'data_MM20.dat'\n",
    "zmod, imf, slib, sps, spsooo = np.genfromtxt(filename, comments='#', usecols=(0,1,2,3,4), unpack=True)\n",
    "os.chdir(dir_home)"
   ]
  },
  {
   "cell_type": "code",
   "execution_count": null,
   "metadata": {},
   "outputs": [],
   "source": [
    "cov_mat_diag = np.zeros((len(z), len(z)), dtype='float64') \n",
    "\n",
    "for i in range(len(z)):\n",
    "\tcov_mat_diag[i,i] = errHz[i]**2\n",
    "\n",
    "imf_intp = np.interp(z, zmod, imf)/100\n",
    "slib_intp = np.interp(z, zmod, slib)/100\n",
    "sps_intp = np.interp(z, zmod, sps)/100\n",
    "spsooo_intp = np.interp(z, zmod, spsooo)/100\n",
    "\n",
    "cov_mat_imf = np.zeros((len(z), len(z)), dtype='float64')\n",
    "cov_mat_slib = np.zeros((len(z), len(z)), dtype='float64')\n",
    "cov_mat_sps = np.zeros((len(z), len(z)), dtype='float64')\n",
    "cov_mat_spsooo = np.zeros((len(z), len(z)), dtype='float64')\n",
    "\n",
    "for i in range(len(z)):\n",
    "\tfor j in range(len(z)):\n",
    "\t\tcov_mat_imf[i,j] = Hz[i] * imf_intp[i] * Hz[j] * imf_intp[j]\n",
    "\t\tcov_mat_slib[i,j] = Hz[i] * slib_intp[i] * Hz[j] * slib_intp[j]\n",
    "\t\tcov_mat_sps[i,j] = Hz[i] * sps_intp[i] * Hz[j] * sps_intp[j]\n",
    "\t\tcov_mat_spsooo[i,j] = Hz[i] * spsooo_intp[i] * Hz[j] * spsooo_intp[j]"
   ]
  },
  {
   "cell_type": "code",
   "execution_count": null,
   "metadata": {},
   "outputs": [],
   "source": [
    "cov_mat = cov_mat_spsooo+cov_mat_imf+cov_mat_diag\n",
    "inv_cov_mat = inv(cov_mat)"
   ]
  }
 ],
 "metadata": {
  "kernelspec": {
   "display_name": "Python 3.9.12 ('Basic')",
   "language": "python",
   "name": "python3"
  },
  "language_info": {
   "codemirror_mode": {
    "name": "ipython",
    "version": 3
   },
   "file_extension": ".py",
   "mimetype": "text/x-python",
   "name": "python",
   "nbconvert_exporter": "python",
   "pygments_lexer": "ipython3",
   "version": "3.9.12"
  },
  "orig_nbformat": 4,
  "vscode": {
   "interpreter": {
    "hash": "00e07497f234f54d887b60d5ed679ee0c680238811a4e140a9ea9a267e693a5d"
   }
  }
 },
 "nbformat": 4,
 "nbformat_minor": 2
}
