{
 "cells": [
  {
   "cell_type": "code",
   "execution_count": 2,
   "metadata": {},
   "outputs": [],
   "source": [
    "import numpy as np\n",
    "from numpy.linalg import inv\n",
    "import matplotlib.pyplot as plt\n",
    "import os"
   ]
  },
  {
   "cell_type": "code",
   "execution_count": 16,
   "metadata": {},
   "outputs": [
    {
     "name": "stdout",
     "output_type": "stream",
     "text": [
      "      z             H(z)           err\n",
      "[[1.7910000e-01 7.4910000e+01 3.8069262e+00]\n",
      " [1.9930000e-01 7.4960000e+01 4.9001352e+00]\n",
      " [3.5190000e-01 8.2780000e+01 1.3948430e+01]\n",
      " [3.8020000e-01 8.3000000e+01 1.3540000e+01]\n",
      " [4.0040000e-01 7.6970000e+01 1.0180000e+01]\n",
      " [4.2470000e-01 8.7080000e+01 1.1240000e+01]\n",
      " [4.4970000e-01 9.2780000e+01 1.2900000e+01]\n",
      " [4.7830000e-01 8.0910000e+01 9.0440000e+00]\n",
      " [5.9290000e-01 1.0380000e+02 1.2497520e+01]\n",
      " [6.7970000e-01 9.1600000e+01 7.9618720e+00]\n",
      " [7.8120000e-01 1.0450000e+02 1.2195150e+01]\n",
      " [8.7540000e-01 1.2510000e+02 1.6700850e+01]\n",
      " [1.0370000e+00 1.5370000e+02 1.9673600e+01]\n",
      " [1.3630000e+00 1.6000000e+02 3.2630000e+01]\n",
      " [1.9650000e+00 1.8650000e+02 4.9580000e+01]]\n"
     ]
    }
   ],
   "source": [
    "cwd=os.getcwd()\n",
    "\n",
    "path_data = cwd + '/HzTable_MM_BC03.dat'\n",
    "path_sys = cwd + '/data_MM20.dat'\n",
    "\n",
    "z, H, sig = np.genfromtxt(path_data, comments='#', usecols=(0,1,2), unpack=True, delimiter=',')\n",
    "\n",
    "zmod, imf, slib, sps, spsooo = np.genfromtxt(path_sys, comments='#', usecols=(0,1,2,3,4), unpack=True)\n",
    "\n",
    "# These are data without systematic\n",
    "data = np.c_[z,H,sig]\n",
    "print(\"      z   \",\"         H(z)   \",\"       err\")\n",
    "print(data)\n"
   ]
  },
  {
   "cell_type": "code",
   "execution_count": 18,
   "metadata": {},
   "outputs": [
    {
     "data": {
      "text/plain": [
       "<ErrorbarContainer object of 3 artists>"
      ]
     },
     "execution_count": 18,
     "metadata": {},
     "output_type": "execute_result"
    },
    {
     "data": {
      "image/png": "[encoded data removed]",
      "text/plain": [
       "<Figure size 1080x576 with 1 Axes>"
      ]
     },
     "metadata": {
      "needs_background": "light"
     },
     "output_type": "display_data"
    }
   ],
   "source": [
    "plt.rcParams['figure.figsize'] = (15,8)\n",
    "plt.errorbar(z, H, sig, fmt='o', color='k', mfc='white', elinewidth=1.5, ms=8, capsize=4)"
   ]
  },
  {
   "cell_type": "code",
   "execution_count": 19,
   "metadata": {},
   "outputs": [],
   "source": [
    "cov_mat_diag = np.zeros((len(z), len(z)), dtype='float64') \n",
    "\n",
    "for i in range(len(z)):\n",
    "\tcov_mat_diag[i,i] = sig[i]**2\n",
    "\n",
    "imf_intp = np.interp(z, zmod, imf)/100\n",
    "slib_intp = np.interp(z, zmod, slib)/100\n",
    "sps_intp = np.interp(z, zmod, sps)/100\n",
    "spsooo_intp = np.interp(z, zmod, spsooo)/100\n",
    "\n",
    "cov_mat_imf = np.zeros((len(z), len(z)), dtype='float64')\n",
    "cov_mat_slib = np.zeros((len(z), len(z)), dtype='float64')\n",
    "cov_mat_sps = np.zeros((len(z), len(z)), dtype='float64')\n",
    "cov_mat_spsooo = np.zeros((len(z), len(z)), dtype='float64')\n",
    "\n",
    "for i in range(len(z)):\n",
    "\tfor j in range(len(z)):\n",
    "\t\tcov_mat_imf[i,j] = H[i] * imf_intp[i] * H[j] * imf_intp[j]\n",
    "\t\tcov_mat_slib[i,j] = H[i] * slib_intp[i] * H[j] * slib_intp[j]\n",
    "\t\tcov_mat_sps[i,j] = H[i] * sps_intp[i] * H[j] * sps_intp[j]\n",
    "\t\tcov_mat_spsooo[i,j] = H[i] * spsooo_intp[i] * H[j] * spsooo_intp[j]"
   ]
  },
  {
   "cell_type": "code",
   "execution_count": 20,
   "metadata": {},
   "outputs": [],
   "source": [
    "# The covarince matrix including all systematics is\n",
    "cov_mat = cov_mat_spsooo+cov_mat_imf+cov_mat_diag\n",
    "inv_cov_mat = inv(cov_mat)"
   ]
  },
  {
   "cell_type": "code",
   "execution_count": null,
   "metadata": {},
   "outputs": [],
   "source": []
  }
 ],
 "metadata": {
  "kernelspec": {
   "display_name": "Python 3.9.12 ('Basic')",
   "language": "python",
   "name": "python3"
  },
  "language_info": {
   "codemirror_mode": {
    "name": "ipython",
    "version": 3
   },
   "file_extension": ".py",
   "mimetype": "text/x-python",
   "name": "python",
   "nbconvert_exporter": "python",
   "pygments_lexer": "ipython3",
   "version": "3.9.12"
  },
  "orig_nbformat": 4,
  "vscode": {
   "interpreter": {
    "hash": "00e07497f234f54d887b60d5ed679ee0c680238811a4e140a9ea9a267e693a5d"
   }
  }
 },
 "nbformat": 4,
 "nbformat_minor": 2
}
