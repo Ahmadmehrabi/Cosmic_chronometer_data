{
 "cells": [
  {
   "cell_type": "code",
   "execution_count": 21,
   "metadata": {},
   "outputs": [],
   "source": [
    "import numpy as np\n",
    "from numpy.linalg import inv\n",
    "import matplotlib.pyplot as plt\n",
    "import os"
   ]
  },
  {
   "cell_type": "code",
   "execution_count": 27,
   "metadata": {},
   "outputs": [
    {
     "name": "stdout",
     "output_type": "stream",
     "text": [
      "     z        H(z)        err\n",
      "[[7.000e-02 6.900e+01 1.960e+01]\n",
      " [9.000e-02 6.900e+01 1.200e+01]\n",
      " [1.200e-01 6.860e+01 2.620e+01]\n",
      " [1.700e-01 8.300e+01 8.000e+00]\n",
      " [1.790e-01 7.500e+01 4.000e+00]\n",
      " [1.990e-01 7.500e+01 5.000e+00]\n",
      " [2.000e-01 7.290e+01 2.960e+01]\n",
      " [2.700e-01 7.700e+01 1.400e+01]\n",
      " [2.800e-01 8.880e+01 3.660e+01]\n",
      " [3.520e-01 8.300e+01 1.400e+01]\n",
      " [3.800e-01 8.300e+01 1.350e+01]\n",
      " [4.000e-01 9.500e+01 1.700e+01]\n",
      " [4.004e-01 7.700e+01 1.020e+01]\n",
      " [4.250e-01 8.710e+01 1.120e+01]\n",
      " [4.450e-01 9.280e+01 1.290e+01]\n",
      " [4.700e-01 8.900e+01 4.960e+01]\n",
      " [4.783e-01 8.090e+01 9.000e+00]\n",
      " [4.800e-01 9.700e+01 6.200e+01]\n",
      " [5.930e-01 1.040e+02 1.300e+01]\n",
      " [6.800e-01 9.200e+01 8.000e+00]\n",
      " [7.500e-01 9.880e+01 3.360e+01]\n",
      " [7.810e-01 1.050e+02 1.200e+01]\n",
      " [8.750e-01 1.250e+02 1.700e+01]\n",
      " [8.800e-01 9.000e+01 4.000e+01]\n",
      " [9.000e-01 1.170e+02 2.300e+01]\n",
      " [1.037e+00 1.540e+02 2.000e+01]\n",
      " [1.300e+00 1.680e+02 1.700e+01]\n",
      " [1.363e+00 1.600e+02 3.360e+01]\n",
      " [1.430e+00 1.770e+02 1.800e+01]\n",
      " [1.530e+00 1.400e+02 1.400e+01]\n",
      " [1.750e+00 2.020e+02 4.000e+01]\n",
      " [1.965e+00 1.865e+02 5.040e+01]]\n"
     ]
    }
   ],
   "source": [
    "cwd=os.getcwd()\n",
    "\n",
    "path_data = cwd + '/HzTable_MM_BC32.txt'\n",
    "path_sys = cwd + '/data_MM20.dat'\n",
    "\n",
    "data= np.genfromtxt(path_data)\n",
    "z = data[:,0]\n",
    "H = data[:,1]\n",
    "sig = data[:,2]\n",
    "\n",
    "zmod, imf, slib, sps, spsooo = np.genfromtxt(path_sys, comments='#', usecols=(0,1,2,3,4), unpack=True)\n",
    "\n",
    "# These are data without systematic\n",
    "\n",
    "print(\"     z   \",\"    H(z)   \",\"    err\")\n",
    "print(data)\n"
   ]
  },
  {
   "cell_type": "code",
   "execution_count": 28,
   "metadata": {},
   "outputs": [
    {
     "data": {
      "text/plain": [
       "<ErrorbarContainer object of 3 artists>"
      ]
     },
     "execution_count": 28,
     "metadata": {},
     "output_type": "execute_result"
    },
    {
     "data": {
      "image/png": "[encoded data removed]",
      "text/plain": [
       "<Figure size 1080x576 with 1 Axes>"
      ]
     },
     "metadata": {
      "needs_background": "light"
     },
     "output_type": "display_data"
    }
   ],
   "source": [
    "plt.rcParams['figure.figsize'] = (15,8)\n",
    "plt.errorbar(z, H, sig, fmt='o', color='k', mfc='white', elinewidth=1.5, ms=8, capsize=4)"
   ]
  },
  {
   "cell_type": "code",
   "execution_count": 29,
   "metadata": {},
   "outputs": [],
   "source": [
    "cov_mat_diag = np.zeros((len(z), len(z)), dtype='float64') \n",
    "\n",
    "for i in range(len(z)):\n",
    "\tcov_mat_diag[i,i] = sig[i]**2\n",
    "\n",
    "imf_intp = np.interp(z, zmod, imf)/100\n",
    "slib_intp = np.interp(z, zmod, slib)/100\n",
    "sps_intp = np.interp(z, zmod, sps)/100\n",
    "spsooo_intp = np.interp(z, zmod, spsooo)/100\n",
    "\n",
    "cov_mat_imf = np.zeros((len(z), len(z)), dtype='float64')\n",
    "cov_mat_slib = np.zeros((len(z), len(z)), dtype='float64')\n",
    "cov_mat_sps = np.zeros((len(z), len(z)), dtype='float64')\n",
    "cov_mat_spsooo = np.zeros((len(z), len(z)), dtype='float64')\n",
    "\n",
    "for i in range(len(z)):\n",
    "\tfor j in range(len(z)):\n",
    "\t\tcov_mat_imf[i,j] = H[i] * imf_intp[i] * H[j] * imf_intp[j]\n",
    "\t\tcov_mat_slib[i,j] = H[i] * slib_intp[i] * H[j] * slib_intp[j]\n",
    "\t\tcov_mat_sps[i,j] = H[i] * sps_intp[i] * H[j] * sps_intp[j]\n",
    "\t\tcov_mat_spsooo[i,j] = H[i] * spsooo_intp[i] * H[j] * spsooo_intp[j]"
   ]
  },
  {
   "cell_type": "code",
   "execution_count": 30,
   "metadata": {},
   "outputs": [],
   "source": [
    "# The covarince matrix including all systematics is\n",
    "cov_mat = cov_mat_spsooo+cov_mat_imf+cov_mat_diag\n",
    "inv_cov_mat = inv(cov_mat)"
   ]
  },
  {
   "cell_type": "code",
   "execution_count": null,
   "metadata": {},
   "outputs": [],
   "source": []
  }
 ],
 "metadata": {
  "kernelspec": {
   "display_name": "Python 3.9.12 ('Basic')",
   "language": "python",
   "name": "python3"
  },
  "language_info": {
   "codemirror_mode": {
    "name": "ipython",
    "version": 3
   },
   "file_extension": ".py",
   "mimetype": "text/x-python",
   "name": "python",
   "nbconvert_exporter": "python",
   "pygments_lexer": "ipython3",
   "version": "3.9.12"
  },
  "orig_nbformat": 4,
  "vscode": {
   "interpreter": {
    "hash": "00e07497f234f54d887b60d5ed679ee0c680238811a4e140a9ea9a267e693a5d"
   }
  }
 },
 "nbformat": 4,
 "nbformat_minor": 2
}
